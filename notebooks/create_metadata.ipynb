{
 "cells": [
  {
   "attachments": {},
   "cell_type": "markdown",
   "metadata": {},
   "source": [
    "# Create Metadata for Datasets"
   ]
  },
  {
   "cell_type": "code",
   "execution_count": 1,
   "metadata": {},
   "outputs": [],
   "source": [
    "import sys\n",
    "sys.path.append('..')"
   ]
  },
  {
   "cell_type": "code",
   "execution_count": 2,
   "metadata": {},
   "outputs": [],
   "source": [
    "import json\n",
    "import logging\n",
    "\n",
    "\n",
    "import numpy as np\n",
    "from tqdm import tqdm\n",
    "\n",
    "from src.datasets.data_utils import calculate_channel_mean_std\n",
    "from src.utils.enums import DatasetEnum\n",
    "from src.utils.io import list_dir, load_mask"
   ]
  },
  {
   "cell_type": "code",
   "execution_count": 3,
   "metadata": {},
   "outputs": [],
   "source": [
    "logging.basicConfig(\n",
    "    level=logging.INFO,\n",
    "    format=\"[%(asctime)s - %(levelname)s] %(message)s\",\n",
    ")"
   ]
  },
  {
   "cell_type": "code",
   "execution_count": 4,
   "metadata": {},
   "outputs": [
    {
     "name": "stderr",
     "output_type": "stream",
     "text": [
      "[2023-03-31 16:17:11,688 - INFO] --------------------------------------------------\n",
      "[2023-03-31 16:17:11,688 - INFO] Calculating metadata for cil dataset...\n",
      "[2023-03-31 16:17:11,864 - INFO] Calculating mean and std of the dataset...\n",
      "100%|██████████| 144/144 [00:01<00:00, 133.95it/s]\n",
      "[2023-03-31 16:17:12,948 - INFO] Mean: [0.50962999 0.5205989  0.51775995]\n",
      "[2023-03-31 16:17:12,949 - INFO] Std: [0.21070724 0.20197992 0.19757078]\n",
      "[2023-03-31 16:17:12,949 - INFO] Calculating avg mask area...\n",
      "100%|██████████| 144/144 [00:00<00:00, 1264.40it/s]\n",
      "[2023-03-31 16:17:13,064 - INFO] Mean mask area: 0.177976953125\n",
      "[2023-03-31 16:17:13,065 - INFO] --------------------------------------------------\n",
      "[2023-03-31 16:17:13,065 - INFO] Calculating metadata for epfl dataset...\n",
      "[2023-03-31 16:17:13,231 - INFO] Calculating mean and std of the dataset...\n",
      "100%|██████████| 339/339 [00:02<00:00, 133.68it/s]\n",
      "[2023-03-31 16:17:15,769 - INFO] Mean: [0.33429297 0.33173469 0.29726037]\n",
      "[2023-03-31 16:17:15,769 - INFO] Std: [0.18086473 0.17581957 0.17715556]\n",
      "[2023-03-31 16:17:15,769 - INFO] Calculating avg mask area...\n",
      "100%|██████████| 339/339 [00:00<00:00, 1333.14it/s]\n",
      "[2023-03-31 16:17:16,025 - INFO] Mean mask area: 0.22136139380530975\n",
      "[2023-03-31 16:17:16,026 - INFO] --------------------------------------------------\n",
      "[2023-03-31 16:17:16,026 - INFO] Calculating metadata for roadtracer dataset...\n",
      "[2023-03-31 16:17:16,192 - INFO] Calculating mean and std of the dataset...\n",
      "100%|██████████| 4976/4976 [00:36<00:00, 136.45it/s]\n",
      "[2023-03-31 16:17:52,662 - INFO] Mean: [0.46217721 0.48743559 0.49800043]\n",
      "[2023-03-31 16:17:52,662 - INFO] Std: [0.19284128 0.17951104 0.17289747]\n",
      "[2023-03-31 16:17:52,663 - INFO] Calculating avg mask area...\n",
      "100%|██████████| 4976/4976 [00:03<00:00, 1354.99it/s]\n",
      "[2023-03-31 16:17:56,337 - INFO] Mean mask area: 0.10412274165996785\n",
      "[2023-03-31 16:17:56,337 - INFO] --------------------------------------------------\n",
      "[2023-03-31 16:17:56,337 - INFO] Calculating metadata for deepglobe dataset...\n",
      "[2023-03-31 16:17:56,514 - INFO] Calculating mean and std of the dataset...\n",
      "100%|██████████| 33125/33125 [03:35<00:00, 153.76it/s]\n",
      "[2023-03-31 16:21:31,943 - INFO] Mean: [0.42174377 0.39654218 0.30629036]\n",
      "[2023-03-31 16:21:31,943 - INFO] Std: [0.1281379  0.10801909 0.10023345]\n",
      "[2023-03-31 16:21:31,943 - INFO] Calculating avg mask area...\n",
      "100%|██████████| 33125/33125 [00:19<00:00, 1702.68it/s]\n",
      "[2023-03-31 16:21:51,400 - INFO] Mean mask area: 0.07451591867924529\n",
      "[2023-03-31 16:21:51,400 - INFO] --------------------------------------------------\n",
      "[2023-03-31 16:21:51,400 - INFO] Calculating metadata for mit dataset...\n",
      "[2023-03-31 16:21:51,579 - INFO] Calculating mean and std of the dataset...\n",
      "100%|██████████| 34621/34621 [03:48<00:00, 151.68it/s]\n",
      "[2023-03-31 16:25:39,830 - INFO] Mean: [0.35068294 0.35553154 0.31580157]\n",
      "[2023-03-31 16:25:39,830 - INFO] Std: [0.17397136 0.16936762 0.17327997]\n",
      "[2023-03-31 16:25:39,830 - INFO] Calculating avg mask area...\n",
      "100%|██████████| 34621/34621 [00:20<00:00, 1705.04it/s]\n",
      "[2023-03-31 16:26:00,138 - INFO] Mean mask area: 0.0711405035960833\n"
     ]
    }
   ],
   "source": [
    "metadata = {}\n",
    "\n",
    "for dataset in DatasetEnum:\n",
    "    if dataset == DatasetEnum.ALL:\n",
    "        continue\n",
    "    \n",
    "    logging.info(\"-\" * 50)\n",
    "    logging.info(f\"Calculating metadata for {dataset.value} dataset...\")\n",
    "    imgage_paths = list_dir(\"../data.nosync/processed/images\")\n",
    "    mask_paths = list_dir(\"../data.nosync/processed/masks\")\n",
    "\n",
    "    imgage_paths = [image for image in imgage_paths if dataset.value in image]\n",
    "    mask_paths = [mask for mask in mask_paths if dataset.value in mask]\n",
    "\n",
    "    imgage_paths = sorted(imgage_paths)\n",
    "    mask_paths = sorted(mask_paths)\n",
    "\n",
    "    img_mean, img_std = calculate_channel_mean_std(imgage_paths)\n",
    "\n",
    "    # calculcate avg mask area\n",
    "    logging.info(\"Calculating avg mask area...\")\n",
    "    mask_areas = []\n",
    "    for mask_path in tqdm(mask_paths):\n",
    "        mask = load_mask(mask_path)\n",
    "        mask_areas.append(mask.mean())\n",
    "\n",
    "    mean_mask_area = np.mean(mask_areas)\n",
    "    logging.info(f\"Mean mask area: {mean_mask_area}\")\n",
    "\n",
    "    metadata[dataset.value] = {\n",
    "        \"img_mean\": list(img_mean),\n",
    "        \"img_std\": list(img_std),\n",
    "        \"mean_mask_area\": float(mean_mask_area),\n",
    "    }\n",
    "\n",
    "with open(\"../metadata.json\", \"w\") as f:\n",
    "    json.dump(metadata, f)"
   ]
  },
  {
   "cell_type": "code",
   "execution_count": 5,
   "metadata": {},
   "outputs": [
    {
     "name": "stderr",
     "output_type": "stream",
     "text": [
      "[2023-03-31 16:26:00,196 - INFO] --------------------------------------------------\n",
      "[2023-03-31 16:26:00,197 - INFO] Metadata for cil dataset:\n",
      "[2023-03-31 16:26:00,197 - INFO] \timg_mean: [0.509629987745085, 0.5205988956971458, 0.5177599513207918]\n",
      "[2023-03-31 16:26:00,198 - INFO] \timg_std: [0.21070724183488873, 0.201979917650027, 0.1975707809885112]\n",
      "[2023-03-31 16:26:00,198 - INFO] \tmean_mask_area: 0.177976953125\n",
      "[2023-03-31 16:26:00,198 - INFO] --------------------------------------------------\n",
      "[2023-03-31 16:26:00,199 - INFO] Metadata for epfl dataset:\n",
      "[2023-03-31 16:26:00,199 - INFO] \timg_mean: [0.3342929740009161, 0.33173468910878934, 0.29726036663497735]\n",
      "[2023-03-31 16:26:00,199 - INFO] \timg_std: [0.18086472904005996, 0.17581956578691596, 0.17715555982745668]\n",
      "[2023-03-31 16:26:00,199 - INFO] \tmean_mask_area: 0.22136139380530975\n",
      "[2023-03-31 16:26:00,199 - INFO] --------------------------------------------------\n",
      "[2023-03-31 16:26:00,200 - INFO] Metadata for roadtracer dataset:\n",
      "[2023-03-31 16:26:00,200 - INFO] \timg_mean: [0.46217721074394846, 0.487435586683738, 0.49800042631099656]\n",
      "[2023-03-31 16:26:00,200 - INFO] \timg_std: [0.19284127818002933, 0.17951104270503318, 0.17289747368981567]\n",
      "[2023-03-31 16:26:00,201 - INFO] \tmean_mask_area: 0.10412274165996785\n",
      "[2023-03-31 16:26:00,201 - INFO] --------------------------------------------------\n",
      "[2023-03-31 16:26:00,201 - INFO] Metadata for deepglobe dataset:\n",
      "[2023-03-31 16:26:00,201 - INFO] \timg_mean: [0.42174377356202, 0.3965421836167878, 0.3062903581629038]\n",
      "[2023-03-31 16:26:00,202 - INFO] \timg_std: [0.12813789837658623, 0.10801908716123651, 0.10023344828333282]\n",
      "[2023-03-31 16:26:00,202 - INFO] \tmean_mask_area: 0.07451591867924529\n",
      "[2023-03-31 16:26:00,202 - INFO] --------------------------------------------------\n",
      "[2023-03-31 16:26:00,203 - INFO] Metadata for mit dataset:\n",
      "[2023-03-31 16:26:00,203 - INFO] \timg_mean: [0.3506829416438109, 0.3555315428915783, 0.315801570602026]\n",
      "[2023-03-31 16:26:00,203 - INFO] \timg_std: [0.17397136313855474, 0.16936762281480083, 0.1732799729161337]\n",
      "[2023-03-31 16:26:00,203 - INFO] \tmean_mask_area: 0.0711405035960833\n"
     ]
    }
   ],
   "source": [
    "for dataset, data in metadata.items():\n",
    "    logging.info(\"-\" * 50)\n",
    "    logging.info(f\"Metadata for {dataset} dataset:\")\n",
    "    for key, value in data.items():\n",
    "        logging.info(f\"\\t{key}: {value}\")"
   ]
  }
 ],
 "metadata": {
  "kernelspec": {
   "display_name": "cil",
   "language": "python",
   "name": "python3"
  },
  "language_info": {
   "codemirror_mode": {
    "name": "ipython",
    "version": 3
   },
   "file_extension": ".py",
   "mimetype": "text/x-python",
   "name": "python",
   "nbconvert_exporter": "python",
   "pygments_lexer": "ipython3",
   "version": "3.10.9"
  },
  "orig_nbformat": 4
 },
 "nbformat": 4,
 "nbformat_minor": 2
}
